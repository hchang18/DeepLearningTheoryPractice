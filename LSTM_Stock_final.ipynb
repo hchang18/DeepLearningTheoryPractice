{
  "nbformat": 4,
  "nbformat_minor": 0,
  "metadata": {
    "colab": {
      "name": "LSTM_Stock_final.ipynb",
      "provenance": [],
      "collapsed_sections": [],
      "machine_shape": "hm",
      "include_colab_link": true
    },
    "kernelspec": {
      "name": "python3",
      "display_name": "Python 3"
    },
    "accelerator": "GPU"
  },
  "cells": [
    {
      "cell_type": "markdown",
      "metadata": {
        "id": "view-in-github",
        "colab_type": "text"
      },
      "source": [
        "<a href=\"https://colab.research.google.com/github/hchang18/DeepLearningTheoryPractice/blob/master/LSTM_Stock_final.ipynb\" target=\"_parent\"><img src=\"https://colab.research.google.com/assets/colab-badge.svg\" alt=\"Open In Colab\"/></a>"
      ]
    },
    {
      "cell_type": "markdown",
      "metadata": {
        "id": "_n171BO6uEUM",
        "colab_type": "text"
      },
      "source": [
        "#Code\n"
      ]
    },
    {
      "cell_type": "code",
      "metadata": {
        "id": "eptk6meeMZBq",
        "colab_type": "code",
        "outputId": "b54db187-f77c-4e68-d94c-7c3e2f0bff0e",
        "colab": {
          "base_uri": "https://localhost:8080/",
          "height": 34
        }
      },
      "source": [
        "# Mount local drive\n",
        "from google.colab import drive\n",
        "drive.mount('/content/gdrive/', force_remount=True)"
      ],
      "execution_count": 0,
      "outputs": [
        {
          "output_type": "stream",
          "text": [
            "Mounted at /content/gdrive/\n"
          ],
          "name": "stdout"
        }
      ]
    },
    {
      "cell_type": "code",
      "metadata": {
        "id": "jfsdZPrKt3yd",
        "colab_type": "code",
        "outputId": "9ef13eed-5c20-4859-8b9a-de9fe359d255",
        "colab": {
          "base_uri": "https://localhost:8080/",
          "height": 34
        }
      },
      "source": [
        "import torch.nn as nn\n",
        "import torch.optim as optim\n",
        "\n",
        "import random\n",
        "import numpy as np\n",
        "import torch\n",
        "import csv\n",
        "import matplotlib.pyplot as plt\n",
        "import time\n",
        "\n",
        "# multivariate data preparation\n",
        "from numpy import array\n",
        "from numpy import hstack\n",
        "\n",
        "device = torch.device(\"cuda:0\" if torch.cuda.is_available() else \"cpu\")\n",
        "# Assuming that we are on a CUDA machine, this should print a CUDA device:\n",
        "print(device)"
      ],
      "execution_count": 0,
      "outputs": [
        {
          "output_type": "stream",
          "text": [
            "cuda:0\n"
          ],
          "name": "stdout"
        }
      ]
    },
    {
      "cell_type": "code",
      "metadata": {
        "id": "qV73VVG80Srr",
        "colab_type": "code",
        "colab": {}
      },
      "source": [
        "# Hyperparameters: split sizes (percentages), note: testsize = 100 - train_sz\n",
        "train_sz = 80  # currently 4/5 of the data (before val-data is removed)\n",
        "val_sz = 20  # currently 1/5 of training\n",
        "n_timesteps = 5 # this is number of timesteps (tau)\n",
        "learn_rate = 0.001 #Hyperparam\n",
        "train_episodes = 1000  # Hyperparam\n",
        "batch_size = 16\n",
        "num_hidden_states = 200\n",
        "num_hidden_layers = 3"
      ],
      "execution_count": 0,
      "outputs": []
    },
    {
      "cell_type": "code",
      "metadata": {
        "id": "v6Ti0PdVucyr",
        "colab_type": "code",
        "outputId": "11fb10ea-2524-471e-81a0-a74f657d90f4",
        "colab": {
          "base_uri": "https://localhost:8080/",
          "height": 34
        }
      },
      "source": [
        "PATH = \"/content/gdrive/My Drive/Colab Notebooks/FMCC.csv\"\n",
        "SAVE_PATH = \"/content/gdrive/My Drive/Colab Notebooks\"\n",
        "\n",
        "with open(PATH, newline='') as csvfile:\n",
        "    \n",
        "    dictreader = csv.DictReader(csvfile, delimiter = ',')\n",
        "    \n",
        "    feature_names = dictreader.fieldnames\n",
        "    all_data = list(dictreader)  # creates a list of dicts (1 per sample) using first row of csv for feature-names\n",
        "    del all_data[-1]  # delete last item\n",
        "    del all_data[0]  # delete first item\n",
        "    del all_data[1506] # Volume == 0 causing problems (div by 0)\n",
        "    del all_data[1507] # Volume == 0 causing problems (div by 0)\n",
        "    data_length = len(all_data)\n",
        "\n",
        "    inp_feats = ['Percentage Change (Low)','Percentage Change (High)' ,'Percentage Change (Close)', 'Percentage Change(Volume)', 'Percentage Change(Vix)', 'Percentage Change(S&P)']\n",
        "    alternate_inp_feats = ['Open', 'High', 'Low', 'Close', 'Adj Close', 'Volume', 'VIX Closed', 'S&P Close']\n",
        "    outp_feat = 'Next Day Percentage Change (High)'\n",
        "\n",
        "    for i, row in enumerate(all_data): \n",
        "        try: \n",
        "            all_data[i][outp_feat] = float(all_data[i][outp_feat][0:-1])\n",
        "        except ValueError:\n",
        "            print ('Line {} is corrupt!'.format(i))\n",
        "            break\n",
        "        \n",
        "        for mat_feat in inp_feats:\n",
        "          all_data[i][mat_feat] = float(all_data[i][mat_feat][0:-1])\n",
        "\n",
        "        # alternate features\n",
        "        # for mat_feat in alternate_inp_feats:\n",
        "        #   all_data[i][mat_feat] = float(all_data[i][mat_feat])\n",
        "\n",
        "\n",
        "    all_inps = np.array([[all_data[samp][feat] for feat in inp_feats] for samp in range(data_length)])\n",
        "    all_outps = np.array([all_data[samp][outp_feat] for samp in range(data_length)]).reshape(data_length, 1)\n",
        "    \n",
        "    # alternate features\n",
        "    # all_inps = np.array([[all_data[samp][feat] for feat in alternate_inp_feats] for samp in range(data_length)])\n",
        "    \n",
        "    n_features = len(inp_feats)\n",
        "\n",
        "    dataset = hstack((all_inps, all_outps))\n",
        "\n",
        "    print(dataset.shape)"
      ],
      "execution_count": 0,
      "outputs": [
        {
          "output_type": "stream",
          "text": [
            "(2513, 7)\n"
          ],
          "name": "stdout"
        }
      ]
    },
    {
      "cell_type": "code",
      "metadata": {
        "id": "Vhdu1k5WRPyv",
        "colab_type": "code",
        "colab": {}
      },
      "source": [
        "# split a multivariate sequence into samples\n",
        "def split_sequences(sequences, n_steps):\n",
        "    X, y = list(), list()\n",
        "    for i in range(len(sequences)):\n",
        "        # find the end of this pattern\n",
        "        end_ix = i + n_steps\n",
        "        # check if we are beyond the dataset\n",
        "        if end_ix > len(sequences):\n",
        "            break\n",
        "        # gather input and output parts of the pattern\n",
        "        seq_x, seq_y = sequences[i:end_ix, :-1], sequences[end_ix-1, -1]\n",
        "        X.append(seq_x)\n",
        "        y.append(seq_y)\n",
        "    return array(X), array(y)\n"
      ],
      "execution_count": 0,
      "outputs": []
    },
    {
      "cell_type": "code",
      "metadata": {
        "id": "lSQAvqA4RWyp",
        "colab_type": "code",
        "colab": {}
      },
      "source": [
        "class MV_LSTM(torch.nn.Module):\n",
        "    def __init__(self,n_features,seq_length):\n",
        "        super(MV_LSTM, self).__init__()\n",
        "        self.n_features = n_features\n",
        "        self.seq_len = seq_length\n",
        "        self.n_hidden = num_hidden_states # number of hidden states\n",
        "        self.n_layers = num_hidden_layers # number of LSTM layers (stacked)\n",
        "\n",
        "        self.l_lstm = torch.nn.LSTM(input_size = n_features, \n",
        "                                 hidden_size = self.n_hidden,\n",
        "                                 num_layers = self.n_layers, \n",
        "                                 batch_first = True)\n",
        "\n",
        "        # according to pytorch docs LSTM output is \n",
        "        # (batch_size,seq_len, num_directions * hidden_size)\n",
        "        # when considering batch_first = True\n",
        "        self.l_linear = torch.nn.Linear(self.n_hidden*self.seq_len, 1)\n",
        "\n",
        "    def init_hidden(self, batch_size):\n",
        "        # even with batch_first = True this remains same as docs\n",
        "        hidden_state = torch.zeros(self.n_layers,batch_size,self.n_hidden)\n",
        "        cell_state = torch.zeros(self.n_layers,batch_size,self.n_hidden)\n",
        "        self.hidden = (hidden_state, cell_state)\n",
        "\n",
        "\n",
        "    def forward(self, x):        \n",
        "        batch_size, seq_len, _ = x.size()\n",
        "\n",
        "        lstm_out, self.hidden = self.l_lstm(x,self.hidden)\n",
        "        # lstm_out(with batch_first = True) is \n",
        "        # (batch_size,seq_len,num_directions * hidden_size)\n",
        "        # for following linear layer we want to keep batch_size dimension and merge rest       \n",
        "        # .contiguous() -> solves tensor compatibility error\n",
        "        x = lstm_out.contiguous().view(batch_size,-1)\n",
        "        return self.l_linear(x)"
      ],
      "execution_count": 0,
      "outputs": []
    },
    {
      "cell_type": "code",
      "metadata": {
        "id": "inuMSaO2RaNV",
        "colab_type": "code",
        "colab": {}
      },
      "source": [
        "# convert dataset into input/output\n",
        "X, y = split_sequences(dataset, n_timesteps)\n",
        "\n",
        "# split data into training/test/val\n",
        "train_test_split =  int(train_sz * X.shape[0] // 100)\n",
        "val_split = (val_sz * train_test_split // 100) \n",
        "\n",
        "valX = X[:val_split]\n",
        "valy = y[:val_split]\n",
        "trainX = X[val_split:train_test_split]\n",
        "trainy = y[val_split:train_test_split]\n",
        "testX = X[train_test_split:]\n",
        "testy = y[train_test_split:]\n",
        "\n",
        "# create NN\n",
        "mv_net = MV_LSTM(n_features, n_timesteps)\n",
        "criterion = torch.nn.MSELoss() # reduction='sum' created huge loss value\n",
        "optimizer = torch.optim.Adam(mv_net.parameters(), lr=learn_rate)"
      ],
      "execution_count": 0,
      "outputs": []
    },
    {
      "cell_type": "code",
      "metadata": {
        "id": "fXywdTo2RdGz",
        "colab_type": "code",
        "outputId": "fc3fa4c1-2b2b-4d31-8996-66a81337ce0b",
        "colab": {
          "base_uri": "https://localhost:8080/",
          "height": 134
        }
      },
      "source": [
        "# mv_net.train()\n",
        "num_epoch = []\n",
        "loss_list_train = []\n",
        "loss_list_val = []\n",
        "\n",
        "loss_order = 10\n",
        "temp_lr = learn_rate\n",
        "\n",
        "start_time = time.time()\n",
        "for t in range(train_episodes):\n",
        "    # train\n",
        "    mv_net.train()\n",
        "    for b in range(0, len(trainX), batch_size):\n",
        "        inpt = trainX[b:b+batch_size,:,:]\n",
        "        target = trainy[b:b+batch_size]    \n",
        "\n",
        "        x_batch = torch.tensor(inpt,dtype=torch.float32)\n",
        "        y_batch = torch.tensor(target,dtype=torch.float32)\n",
        "\n",
        "        mv_net.init_hidden(x_batch.size(0))\n",
        "        # lstm_out, _ = mv_net.l_lstm(x_batch,nnet.hidden)    \n",
        "        # lstm_out.contiguous().view(x_batch.size(0),-1)\n",
        "        output = mv_net(x_batch)\n",
        "        loss = criterion(output.view(-1), y_batch)  \n",
        "\n",
        "        loss.backward()\n",
        "        optimizer.step()        \n",
        "        optimizer.zero_grad() \n",
        "\n",
        "        # experiment\n",
        "        if loss.item() < (loss_order / 100):\n",
        "          loss_order /= 100\n",
        "          temp_lr /= 5\n",
        "          for param_group in optimizer.param_groups:\n",
        "            param_group['lr'] = temp_lr\n",
        "          print('cut lr to', temp_lr)\n",
        "\n",
        "\n",
        "    if t % 20 == 0:\n",
        "        print('step : ' , t , 'loss : ' , loss.item())\n",
        "    num_epoch.append(t)\n",
        "    loss_list_train.append(loss.item())\n",
        "\n",
        "    # estimate validation error per epoch\n",
        "    for b in range(0,len(valX),batch_size):\n",
        "        inpt = valX[b:b+batch_size,:,:]\n",
        "        target = valy[b:b+batch_size]    \n",
        "\n",
        "        x_batch_val = torch.tensor(inpt,dtype=torch.float32)  \n",
        "        y_batch_val = torch.tensor(target,dtype=torch.float32)\n",
        "\n",
        "        mv_net.init_hidden(x_batch_val.size(0))\n",
        "        # lstm_out, _ = mv_net.l_lstm(x_batch,nnet.hidden)    \n",
        "        # lstm_out.contiguous().view(x_batch.size(0),-1)\n",
        "        output = mv_net(x_batch_val)\n",
        "        loss_val = criterion(output.view(-1), y_batch_val)\n",
        "        \n",
        "    loss_list_val.append(loss_val.item())\n",
        "\n",
        "minutes = (time.time() - start_time)\n",
        "print(\"--- %s ---\" % minutes)"
      ],
      "execution_count": 0,
      "outputs": [
        {
          "output_type": "stream",
          "text": [
            "step :  0 loss :  3.8780081272125244\n",
            "step :  20 loss :  0.5336471199989319\n",
            "cut lr to 0.0002\n",
            "step :  40 loss :  0.0060434541665017605\n",
            "step :  60 loss :  0.02789960242807865\n",
            "step :  80 loss :  0.03549816831946373\n",
            "--- 204.3520531654358 ---\n"
          ],
          "name": "stdout"
        }
      ]
    },
    {
      "cell_type": "code",
      "metadata": {
        "id": "Hg_tbHI9sy3U",
        "colab_type": "code",
        "outputId": "51ae4c76-82a2-462e-8ae1-dba09109f988",
        "colab": {
          "base_uri": "https://localhost:8080/",
          "height": 295
        }
      },
      "source": [
        "# plot two error curves \n",
        "d_epoch = np.array(num_epoch)\n",
        "d_train = np.array(loss_list_train)\n",
        "d_val = np.array(loss_list_val)\n",
        "val_min = np.argmin(loss_list_val)\n",
        "\n",
        "fig, ax = plt.subplots()\n",
        "ax.plot(d_epoch, d_train, 'k--', label = 'train loss')\n",
        "ax.plot(d_epoch, d_val, 'r--', label = 'validation loss')\n",
        "plt.axvline(val_min)\n",
        "ax.set_title(\"Training and validation losses\")\n",
        "ax.set_xlabel(\"Number of epochs\")\n",
        "ax.set_ylabel(\"Loss\")\n",
        "ax.legend(loc='best')\n",
        "fig.show()"
      ],
      "execution_count": 0,
      "outputs": [
        {
          "output_type": "display_data",
          "data": {
            "image/png": "[encoded data removed]",
            "text/plain": [
              "<Figure size 432x288 with 1 Axes>"
            ]
          },
          "metadata": {
            "tags": []
          }
        }
      ]
    },
    {
      "cell_type": "code",
      "metadata": {
        "id": "XTB8kNoly1KM",
        "colab_type": "code",
        "outputId": "10a40556-ec1b-4e69-f111-76bb64fb3518",
        "colab": {
          "base_uri": "https://localhost:8080/",
          "height": 118
        }
      },
      "source": [
        "# test - print out the output\n",
        "batch_size = 1\n",
        "num_correct = 0\n",
        "num_incorrect = 0\n",
        "mae = []\n",
        "for b in range(0,len(testX),batch_size):\n",
        "    inpt = testX[b:b+batch_size,:,:]\n",
        "    target = testy[b:b+batch_size]    \n",
        "\n",
        "    x_batch = torch.tensor(inpt,dtype=torch.float32)  \n",
        "    y_batch = torch.tensor(target,dtype=torch.float32)\n",
        "\n",
        "    mv_net.init_hidden(x_batch.size(0))   \n",
        "    output = mv_net(x_batch)\n",
        "    abs_diff = np.absolute(output.detach().numpy() - target) \n",
        "    mae.append(abs_diff)\n",
        "    # print('ground_truth: ', target, 'output: ', output)\n",
        "\n",
        "    if(np.sign(target) == np.sign(output.detach().numpy())):\n",
        "      num_correct += 1\n",
        "    else:\n",
        "      num_incorrect += 1\n",
        "\n",
        "mae = np.array(mae)\n",
        "mae_avg = np.mean(mae)\n",
        "print('Mean Absolute Error: ', mae_avg)\n",
        "print('correct:', num_correct)\n",
        "print('incorrect:', num_incorrect)\n",
        "print(num_correct/ (num_correct + num_incorrect))\n",
        "print('train size: ', len(trainX))\n",
        "print('test size: ', len(testX))\n"
      ],
      "execution_count": 0,
      "outputs": [
        {
          "output_type": "stream",
          "text": [
            "Mean Absolute Error:  2.4806262317549184\n",
            "correct: 284\n",
            "incorrect: 218\n",
            "0.5657370517928287\n",
            "train size:  1606\n",
            "test size:  502\n"
          ],
          "name": "stdout"
        }
      ]
    },
    {
      "cell_type": "code",
      "metadata": {
        "id": "Byb9z9985pM9",
        "colab_type": "code",
        "colab": {}
      },
      "source": [
        "# model_save_name = 'mvnet_state_CCL_moredata'\n",
        "# save_path = F'{SAVE_PATH}/{model_save_name}'\n",
        "# torch.save(mv_net.state_dict(), save_path)\n",
        "\n",
        "# model.load_state_dict(torch.load(save_path))"
      ],
      "execution_count": 0,
      "outputs": []
    },
    {
      "cell_type": "code",
      "metadata": {
        "id": "twuYw6OH_-OP",
        "colab_type": "code",
        "outputId": "98851383-f1f6-4b1c-af04-daa0b338dd36",
        "colab": {
          "base_uri": "https://localhost:8080/",
          "height": 295
        }
      },
      "source": [
        "# dollar calculation\n",
        "day = []\n",
        "dollar_list = []\n",
        "\n",
        "dollars = 100000\n",
        "threshold = 1.0\n",
        "# number of actually trading \n",
        "count = 0 \n",
        "count_list = []\n",
        "batch_size = 1\n",
        "for b in range(0,len(testX),batch_size):\n",
        "    inpt = testX[b:b+batch_size,:,:]\n",
        "    target = testy[b:b+batch_size]    \n",
        "    x_batch = torch.tensor(inpt,dtype=torch.float32)  \n",
        "    y_batch = torch.tensor(target,dtype=torch.float32)\n",
        "    mv_net.init_hidden(x_batch.size(0))\n",
        "    # lstm_out, _ = mv_net.l_lstm(x_batch,nnet.hidden)    \n",
        "    # lstm_out.contiguous().view(x_batch.size(0),-1)\n",
        "    output = mv_net(x_batch) \n",
        "    if output.detach().numpy() > threshold:\n",
        "        # print(target)\n",
        "        day.append(b)\n",
        "        # print(b)\n",
        "        dollars *= (1 + (target[0])/100)\n",
        "        # print(type(int(dollars)))\n",
        "        count += 1\n",
        "        dollar_list.append(dollars)\n",
        "    else: \n",
        "        day.append(b)\n",
        "        # print(b)\n",
        "        # print(type(int(dollars)))\n",
        "        dollar_list.append(dollars)\n",
        "\n",
        "# print(day)\n",
        "# print(dollar_list)\n",
        "\n",
        "\n",
        "fig, ax = plt.subplots()\n",
        "ax.plot(day, dollar_list, 'b--', label = 'dollar amount movement')\n",
        "ax.set_xlabel(\"trading days\")\n",
        "ax.set_ylabel(\"dollars\")\n",
        "ax.set_title(\"Dollar amount movement\")\n",
        "fig.show()"
      ],
      "execution_count": 0,
      "outputs": [
        {
          "output_type": "display_data",
          "data": {
            "image/png": "[encoded data removed]",
            "text/plain": [
              "<Figure size 432x288 with 1 Axes>"
            ]
          },
          "metadata": {
            "tags": []
          }
        }
      ]
    },
    {
      "cell_type": "markdown",
      "metadata": {
        "id": "p1JkToQkP-1j",
        "colab_type": "text"
      },
      "source": [
        "Copyright: Luke Ding, Haeyoon Chang, Gabe Golden\n"
      ]
    }
  ]
}